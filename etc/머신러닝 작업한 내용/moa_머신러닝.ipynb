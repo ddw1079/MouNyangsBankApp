{
 "cells": [
  {
   "cell_type": "code",
   "execution_count": 4,
   "id": "b20885e6",
   "metadata": {},
   "outputs": [
    {
     "name": "stdout",
     "output_type": "stream",
     "text": [
      "Requirement already satisfied: oracledb in e:\\anaconda3\\lib\\site-packages (3.3.0)Note: you may need to restart the kernel to use updated packages.\n",
      "\n",
      "Requirement already satisfied: cryptography>=3.2.1 in e:\\anaconda3\\lib\\site-packages (from oracledb) (37.0.1)\n",
      "Requirement already satisfied: cffi>=1.12 in e:\\anaconda3\\lib\\site-packages (from cryptography>=3.2.1->oracledb) (1.15.1)\n",
      "Requirement already satisfied: pycparser in e:\\anaconda3\\lib\\site-packages (from cffi>=1.12->cryptography>=3.2.1->oracledb) (2.21)\n"
     ]
    }
   ],
   "source": [
    "pip install oracledb"
   ]
  },
  {
   "cell_type": "code",
   "execution_count": 18,
   "id": "d02fc065",
   "metadata": {},
   "outputs": [
    {
     "name": "stdout",
     "output_type": "stream",
     "text": [
      "Accuracy: 0.3333333333333333\n",
      "\n",
      " Classification Report:\n",
      "               precision    recall  f1-score   support\n",
      "\n",
      "           0       0.33      1.00      0.50         1\n",
      "           1       0.00      0.00      0.00         2\n",
      "\n",
      "    accuracy                           0.33         3\n",
      "   macro avg       0.17      0.50      0.25         3\n",
      "weighted avg       0.11      0.33      0.17         3\n",
      "\n"
     ]
    },
    {
     "name": "stderr",
     "output_type": "stream",
     "text": [
      "e:\\anaconda3\\lib\\site-packages\\pandas\\io\\sql.py:762: UserWarning: pandas only support SQLAlchemy connectable(engine/connection) ordatabase string URI or sqlite3 DBAPI2 connectionother DBAPI2 objects are not tested, please consider using SQLAlchemy\n",
      "  warnings.warn(\n",
      "e:\\anaconda3\\lib\\site-packages\\sklearn\\metrics\\_classification.py:1318: UndefinedMetricWarning: Precision and F-score are ill-defined and being set to 0.0 in labels with no predicted samples. Use `zero_division` parameter to control this behavior.\n",
      "  _warn_prf(average, modifier, msg_start, len(result))\n",
      "e:\\anaconda3\\lib\\site-packages\\sklearn\\metrics\\_classification.py:1318: UndefinedMetricWarning: Precision and F-score are ill-defined and being set to 0.0 in labels with no predicted samples. Use `zero_division` parameter to control this behavior.\n",
      "  _warn_prf(average, modifier, msg_start, len(result))\n",
      "e:\\anaconda3\\lib\\site-packages\\sklearn\\metrics\\_classification.py:1318: UndefinedMetricWarning: Precision and F-score are ill-defined and being set to 0.0 in labels with no predicted samples. Use `zero_division` parameter to control this behavior.\n",
      "  _warn_prf(average, modifier, msg_start, len(result))\n"
     ]
    }
   ],
   "source": [
    "import numpy as np\n",
    "import pandas as pd\n",
    "from sklearn.model_selection import train_test_split\n",
    "from sklearn.ensemble import RandomForestClassifier\n",
    "from sklearn.preprocessing import LabelEncoder\n",
    "from sklearn.metrics import classification_report, accuracy_score\n",
    "\n",
    "# 1. DB에서 불러오기\n",
    "import oracledb\n",
    "conn = oracledb.connect(user=\"moa\", password=\"moa\", dsn=\"localhost:1521/xe\")\n",
    "df = pd.read_sql(\"SELECT * FROM mydata_transaction\", con=conn)\n",
    "conn.close()\n",
    "\n",
    "# 2. 날짜 + 시간 결합 → datetime\n",
    "df['datetime'] = pd.to_datetime(\n",
    "    df['TRADE_DETAIL_DATE'].astype(str) + ' ' + df['TRADE_TIME'].astype(str),\n",
    "    format='%Y-%m-%d %H:%M:%S',\n",
    "    errors='coerce'\n",
    ")\n",
    "\n",
    "# 3. 파생 변수 생성\n",
    "df['hour'] = df['datetime'].dt.hour                # 거래 시각 (0~23)\n",
    "df['weekday'] = df['datetime'].dt.weekday          # 요일 (0=월, ..., 6=일)\n",
    "\n",
    "# 4. 타겟 라벨 인코딩\n",
    "df['label'] = df['TRANSACTION_TYPE'].map({'입금': 1, '출금': 0})\n",
    "\n",
    "# 5. 범주형 컬럼 인코딩\n",
    "le1 = LabelEncoder()\n",
    "df['TRADE_TYPE_ENC'] = le1.fit_transform(df['TRADE_TYPE'])\n",
    "\n",
    "le2 = LabelEncoder()\n",
    "df['BANKBOOK_NOTE_ENC'] = le2.fit_transform(df['BANKBOOK_NOTE'])\n",
    "\n",
    "# 6. 사용할 피처 선택\n",
    "features = ['TRADE_AMOUNT', 'BALANCE_AFTER_TRADE', 'hour', 'weekday',\n",
    "            'TRADE_TYPE_ENC', 'BANKBOOK_NOTE_ENC']\n",
    "\n",
    "X = df[features]\n",
    "y = df['label']\n",
    "\n",
    "# 7. 학습/테스트 분할\n",
    "X_train, X_test, y_train, y_test = train_test_split(X, y, test_size=0.3, random_state=42)\n",
    "\n",
    "X_train = X_train.replace([np.inf, -np.inf], np.nan)  # inf → NaN\n",
    "X_train = X_train.fillna(0)\n",
    "\n",
    "X_test = X_test.replace([np.inf, -np.inf], np.nan)  # inf → NaN\n",
    "X_test = X_test.fillna(0)\n",
    "\n",
    "y_train = y_train.replace([np.inf, -np.inf], np.nan)  # inf → NaN\n",
    "y_train = y_train.fillna(0)\n",
    "\n",
    "y_test = y_test.replace([np.inf, -np.inf], np.nan)  # inf → NaN\n",
    "y_test = y_test.fillna(0)\n",
    "\n",
    "# 8. 모델 학습\n",
    "model = RandomForestClassifier(n_estimators=100, random_state=42)\n",
    "model.fit(X_train, y_train)\n",
    "\n",
    "# 9. 예측 및 평가\n",
    "y_pred = model.predict(X_test)\n",
    "\n",
    "print(\"Accuracy:\", accuracy_score(y_test, y_pred))\n",
    "print(\"\\n Classification Report:\\n\", classification_report(y_test, y_pred))"
   ]
  },
  {
   "cell_type": "code",
   "execution_count": null,
   "id": "28edafe4",
   "metadata": {},
   "outputs": [],
   "source": []
  }
 ],
 "metadata": {
  "kernelspec": {
   "display_name": "base",
   "language": "python",
   "name": "python3"
  },
  "language_info": {
   "codemirror_mode": {
    "name": "ipython",
    "version": 3
   },
   "file_extension": ".py",
   "mimetype": "text/x-python",
   "name": "python",
   "nbconvert_exporter": "python",
   "pygments_lexer": "ipython3",
   "version": "3.9.13"
  }
 },
 "nbformat": 4,
 "nbformat_minor": 5
}
